{
 "cells": [
  {
   "cell_type": "markdown",
   "metadata": {},
   "source": [
    "# Import graspi_igraph\n",
    "\n",
    "Ensure that you are only using python versions higher than 3.7\n",
    "- Python version can be checked by running *python --version* in the terminal\n",
    "- it can also be checked on notebook via *!pip --version* in the code section of the notebook"
   ]
  },
  {
   "cell_type": "markdown",
   "metadata": {},
   "source": []
  },
  {
   "cell_type": "code",
   "execution_count": 12,
   "metadata": {
    "vscode": {
     "languageId": "powershell"
    }
   },
   "outputs": [
    {
     "name": "stdout",
     "output_type": "stream",
     "text": [
      "Python 3.12.5\n"
     ]
    }
   ],
   "source": [
    "!python --version"
   ]
  },
  {
   "cell_type": "markdown",
   "metadata": {},
   "source": [
    "Make sure the graspi_igraph package is installed before it's imported \n",
    "- it can be done via the terminal command *pip install graspi-igraph*\n",
    "- installing it on the code section of a notebook requires the command *!pip install graspi-igraph*"
   ]
  },
  {
   "cell_type": "code",
   "execution_count": 13,
   "metadata": {
    "vscode": {
     "languageId": "powershell"
    }
   },
   "outputs": [
    {
     "name": "stdout",
     "output_type": "stream",
     "text": [
      "Requirement already satisfied: graspi-igraph in /Users/wenqizheng/VSCode/cse302/graspi_igraph/.venv/lib/python3.12/site-packages (0.0.1.11)\n",
      "Requirement already satisfied: igraph in /Users/wenqizheng/VSCode/cse302/graspi_igraph/.venv/lib/python3.12/site-packages (from graspi-igraph) (0.11.6)\n",
      "Requirement already satisfied: matplotlib in /Users/wenqizheng/VSCode/cse302/graspi_igraph/.venv/lib/python3.12/site-packages (from graspi-igraph) (3.9.2)\n",
      "Requirement already satisfied: numpy in /Users/wenqizheng/VSCode/cse302/graspi_igraph/.venv/lib/python3.12/site-packages (from graspi-igraph) (2.1.1)\n",
      "Requirement already satisfied: texttable>=1.6.2 in /Users/wenqizheng/VSCode/cse302/graspi_igraph/.venv/lib/python3.12/site-packages (from igraph->graspi-igraph) (1.7.0)\n",
      "Requirement already satisfied: contourpy>=1.0.1 in /Users/wenqizheng/VSCode/cse302/graspi_igraph/.venv/lib/python3.12/site-packages (from matplotlib->graspi-igraph) (1.3.0)\n",
      "Requirement already satisfied: cycler>=0.10 in /Users/wenqizheng/VSCode/cse302/graspi_igraph/.venv/lib/python3.12/site-packages (from matplotlib->graspi-igraph) (0.12.1)\n",
      "Requirement already satisfied: fonttools>=4.22.0 in /Users/wenqizheng/VSCode/cse302/graspi_igraph/.venv/lib/python3.12/site-packages (from matplotlib->graspi-igraph) (4.53.1)\n",
      "Requirement already satisfied: kiwisolver>=1.3.1 in /Users/wenqizheng/VSCode/cse302/graspi_igraph/.venv/lib/python3.12/site-packages (from matplotlib->graspi-igraph) (1.4.7)\n",
      "Requirement already satisfied: packaging>=20.0 in /Users/wenqizheng/VSCode/cse302/graspi_igraph/.venv/lib/python3.12/site-packages (from matplotlib->graspi-igraph) (24.1)\n",
      "Requirement already satisfied: pillow>=8 in /Users/wenqizheng/VSCode/cse302/graspi_igraph/.venv/lib/python3.12/site-packages (from matplotlib->graspi-igraph) (10.4.0)\n",
      "Requirement already satisfied: pyparsing>=2.3.1 in /Users/wenqizheng/VSCode/cse302/graspi_igraph/.venv/lib/python3.12/site-packages (from matplotlib->graspi-igraph) (3.1.4)\n",
      "Requirement already satisfied: python-dateutil>=2.7 in /Users/wenqizheng/VSCode/cse302/graspi_igraph/.venv/lib/python3.12/site-packages (from matplotlib->graspi-igraph) (2.9.0.post0)\n",
      "Requirement already satisfied: six>=1.5 in /Users/wenqizheng/VSCode/cse302/graspi_igraph/.venv/lib/python3.12/site-packages (from python-dateutil>=2.7->matplotlib->graspi-igraph) (1.16.0)\n"
     ]
    }
   ],
   "source": [
    "# installing the graspi_ igraph package\n",
    "!pip install graspi-igraph"
   ]
  },
  {
   "cell_type": "markdown",
   "metadata": {},
   "source": [
    "To test if the package has been installed properly:"
   ]
  },
  {
   "cell_type": "code",
   "execution_count": 14,
   "metadata": {
    "vscode": {
     "languageId": "powershell"
    }
   },
   "outputs": [
    {
     "name": "stdout",
     "output_type": "stream",
     "text": [
      "Name: graspi_igraph\n",
      "Version: 0.0.1.11\n",
      "Summary: Utilize Python-igraph to produce similar functionality as GraSPI\n",
      "Home-page: \n",
      "Author: Wenqi Zheng\n",
      "Author-email: wenqizhe@buffalo.edu\n",
      "License: \n",
      "Location: /Users/wenqizheng/VSCode/cse302/graspi_igraph/.venv/lib/python3.12/site-packages\n",
      "Requires: igraph, matplotlib, numpy\n",
      "Required-by: \n"
     ]
    }
   ],
   "source": [
    "!pip show graspi_igraph"
   ]
  },
  {
   "cell_type": "code",
   "execution_count": 15,
   "metadata": {},
   "outputs": [],
   "source": [
    "#importing graspi_igraph to be used \n",
    "\n",
    "import graspi_igraph as ig"
   ]
  },
  {
   "cell_type": "markdown",
   "metadata": {},
   "source": [
    "##### Verifying that the functionality of the package works\n",
    "\n",
    "Generating a test file for a 10x10 2D graph via *testFileMaker(\\_n\\_ , \\_depth\\_ , \\_fileName\\_)*\n",
    "- make sure the name of the test file does __NOT__ already exist"
   ]
  },
  {
   "cell_type": "code",
   "execution_count": 16,
   "metadata": {},
   "outputs": [
    {
     "ename": "FileExistsError",
     "evalue": "[Errno 17] File exists: '10x10-testFile.txt'",
     "output_type": "error",
     "traceback": [
      "\u001b[0;31m---------------------------------------------------------------------------\u001b[0m",
      "\u001b[0;31mFileExistsError\u001b[0m                           Traceback (most recent call last)",
      "Cell \u001b[0;32mIn[16], line 2\u001b[0m\n\u001b[1;32m      1\u001b[0m fileName \u001b[38;5;241m=\u001b[39m \u001b[38;5;124m\"\u001b[39m\u001b[38;5;124m10x10-testFile.txt\u001b[39m\u001b[38;5;124m\"\u001b[39m\n\u001b[0;32m----> 2\u001b[0m \u001b[43mig\u001b[49m\u001b[38;5;241;43m.\u001b[39;49m\u001b[43mtestFileMaker\u001b[49m\u001b[43m(\u001b[49m\u001b[38;5;241;43m10\u001b[39;49m\u001b[43m,\u001b[49m\u001b[38;5;241;43m1\u001b[39;49m\u001b[43m,\u001b[49m\u001b[43mfileName\u001b[49m\u001b[43m)\u001b[49m\n",
      "File \u001b[0;32m~/VSCode/cse302/graspi_igraph/.venv/lib/python3.12/site-packages/graspi_igraph/testFileMaker.py:4\u001b[0m, in \u001b[0;36mtestFileMaker\u001b[0;34m(num, depth, textFileName)\u001b[0m\n\u001b[1;32m      3\u001b[0m \u001b[38;5;28;01mdef\u001b[39;00m \u001b[38;5;21mtestFileMaker\u001b[39m(num,depth,textFileName):\n\u001b[0;32m----> 4\u001b[0m     f \u001b[38;5;241m=\u001b[39m \u001b[38;5;28;43mopen\u001b[39;49m\u001b[43m(\u001b[49m\u001b[43mtextFileName\u001b[49m\u001b[43m,\u001b[49m\u001b[38;5;124;43m\"\u001b[39;49m\u001b[38;5;124;43mx\u001b[39;49m\u001b[38;5;124;43m\"\u001b[39;49m\u001b[43m)\u001b[49m\n\u001b[1;32m      6\u001b[0m     \u001b[38;5;28;01mwith\u001b[39;00m \u001b[38;5;28mopen\u001b[39m(textFileName,\u001b[38;5;124m'\u001b[39m\u001b[38;5;124ma\u001b[39m\u001b[38;5;124m'\u001b[39m) \u001b[38;5;28;01mas\u001b[39;00m f:\n\u001b[1;32m      8\u001b[0m         f\u001b[38;5;241m.\u001b[39mwrite(\u001b[38;5;28mstr\u001b[39m(num)\u001b[38;5;241m+\u001b[39m\u001b[38;5;124m\"\u001b[39m\u001b[38;5;124m \u001b[39m\u001b[38;5;124m\"\u001b[39m\u001b[38;5;241m+\u001b[39m\u001b[38;5;28mstr\u001b[39m(num)\u001b[38;5;241m+\u001b[39m \u001b[38;5;124m\"\u001b[39m\u001b[38;5;124m \u001b[39m\u001b[38;5;124m\"\u001b[39m\u001b[38;5;241m+\u001b[39m\u001b[38;5;28mstr\u001b[39m(depth)\u001b[38;5;241m+\u001b[39m\u001b[38;5;124m\"\u001b[39m\u001b[38;5;130;01m\\n\u001b[39;00m\u001b[38;5;124m\"\u001b[39m)\n",
      "\u001b[0;31mFileExistsError\u001b[0m: [Errno 17] File exists: '10x10-testFile.txt'"
     ]
    }
   ],
   "source": [
    "fileName = \"10x10-testFile.txt\"\n",
    "ig.testFileMaker(10,1,fileName)"
   ]
  },
  {
   "cell_type": "markdown",
   "metadata": {},
   "source": [
    "**Generate graph** of 10x10 2D graph utilizing the test file created above"
   ]
  },
  {
   "cell_type": "code",
   "execution_count": null,
   "metadata": {},
   "outputs": [],
   "source": [
    "g = ig.generateGraph(fileName)"
   ]
  },
  {
   "cell_type": "markdown",
   "metadata": {},
   "source": [
    "Visualize 2D graphs via *visual2D(\\_graph\\_)* \n",
    "\n",
    "Visualize 3D graphs via *visual3D(\\_graph\\_)*"
   ]
  },
  {
   "cell_type": "code",
   "execution_count": null,
   "metadata": {},
   "outputs": [],
   "source": [
    "ig.visual2D(g)"
   ]
  },
  {
   "cell_type": "markdown",
   "metadata": {},
   "source": [
    "**Filter the graph** and visualize the filtered graph "
   ]
  },
  {
   "cell_type": "code",
   "execution_count": null,
   "metadata": {},
   "outputs": [],
   "source": [
    "fg = ig.filterGraph(g)\n",
    "ig.visual2D(fg) # visualization"
   ]
  },
  {
   "cell_type": "markdown",
   "metadata": {},
   "source": [
    "Computing the number of connected components and the components themselves"
   ]
  },
  {
   "cell_type": "code",
   "execution_count": null,
   "metadata": {},
   "outputs": [],
   "source": [
    "print(f\"Number of Connected Components: {len(fg.connected_components())} \\n\")\n",
    "print(f\"Connected Components: {fg.connected_components()} \\n\")"
   ]
  },
  {
   "cell_type": "markdown",
   "metadata": {},
   "source": [
    "Compute the shortest path from all specified vertices to some meta-vertex (blue,red meta-vertex) which can be used to determine the desrciptors and stores the distances into a text file\n",
    "\n",
    "*shortest_path(_filteredGraph_, _vertices_, _startingVertex_, _fileName_)* takes in 4 parameters:\n",
    "- filtered graph\n",
    "- all specified vertices\n",
    "- starting vertex\n",
    "- file name\n",
    "\n",
    "Example:\n",
    "    *ig.shortest_path(fg,'black','blue',\"blue_to_black_paths.txt\")* produces the shortests path from all the black vertices to the blue meta-vertex and stores it in a text file called blue_to_black_paths.txt\n"
   ]
  },
  {
   "cell_type": "code",
   "execution_count": null,
   "metadata": {},
   "outputs": [],
   "source": [
    "ig.shortest_path(fg,'black','blue',\"blue_to_black_paths.txt\")"
   ]
  },
  {
   "cell_type": "markdown",
   "metadata": {},
   "source": [
    "Produce a list of descriptors by passing in a graph and a file name for the descriptors to be stored by using *descriptors(_graph_, _fileName_)*\n",
    "\n",
    "- stores the descriptors in a text file under the file name that is passed into the function"
   ]
  },
  {
   "cell_type": "code",
   "execution_count": null,
   "metadata": {},
   "outputs": [],
   "source": [
    "ig.descriptors(g,\"descriptors_list.txt\")"
   ]
  }
 ],
 "metadata": {
  "kernelspec": {
   "display_name": "Python 3 (ipykernel)",
   "language": "python",
   "name": "python3"
  },
  "language_info": {
   "codemirror_mode": {
    "name": "ipython",
    "version": 3
   },
   "file_extension": ".py",
   "mimetype": "text/x-python",
   "name": "python",
   "nbconvert_exporter": "python",
   "pygments_lexer": "ipython3",
   "version": "3.12.5"
  }
 },
 "nbformat": 4,
 "nbformat_minor": 4
}
