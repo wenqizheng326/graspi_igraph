{
 "cells": [
  {
   "cell_type": "markdown",
   "metadata": {},
   "source": [
    "# Import graspi_igraph\n",
    "\n",
    "Ensure that you are only using python versions higher than 3.7\n",
    "- Python version can be checked by running *python --version* in the terminal\n",
    "- it can also be checked on notebook via *!pip --version* in the code section of the notebook"
   ]
  },
  {
   "cell_type": "markdown",
   "metadata": {},
   "source": []
  },
  {
   "cell_type": "code",
   "execution_count": null,
   "metadata": {
    "vscode": {
     "languageId": "powershell"
    }
   },
   "outputs": [],
   "source": [
    "!python --version"
   ]
  },
  {
   "cell_type": "markdown",
   "metadata": {},
   "source": [
    "Make sure the graspi_igraph package is installed before it's imported \n",
    "- it can be done via the terminal command *pip install graspi-igraph*\n",
    "- installing it on the code section of a notebook requires the command *!pip install graspi-igraph*"
   ]
  },
  {
   "cell_type": "code",
   "execution_count": null,
   "metadata": {
    "vscode": {
     "languageId": "powershell"
    }
   },
   "outputs": [],
   "source": [
    "# installing the graspi_ igraph package\n",
    "!pip install graspi-igraph"
   ]
  },
  {
   "cell_type": "markdown",
   "metadata": {},
   "source": [
    "To test if the package has been installed properly:"
   ]
  },
  {
   "cell_type": "code",
   "execution_count": null,
   "metadata": {
    "vscode": {
     "languageId": "powershell"
    }
   },
   "outputs": [],
   "source": [
    "!pip show graspi_igraph"
   ]
  },
  {
   "cell_type": "code",
   "execution_count": 15,
   "metadata": {},
   "outputs": [],
   "source": [
    "#importing graspi_igraph to be used \n",
    "\n",
    "import graspi_igraph as ig"
   ]
  },
  {
   "cell_type": "markdown",
   "metadata": {},
   "source": [
    "##### Verifying that the functionality of the package works\n",
    "\n",
    "Generating a test file for a 10x10 2D graph via *testFileMaker(\\_n\\_ , \\_depth\\_ , \\_fileName\\_)*\n",
    "- make sure the name of the test file does __NOT__ already exist"
   ]
  },
  {
   "cell_type": "code",
   "execution_count": null,
   "metadata": {},
   "outputs": [],
   "source": [
    "fileName = \"10x10-testFile.txt\"\n",
    "ig.testFileMaker(10,1,fileName)"
   ]
  },
  {
   "cell_type": "markdown",
   "metadata": {},
   "source": [
    "**Generate graph** of 10x10 2D graph utilizing the test file created above"
   ]
  },
  {
   "cell_type": "code",
   "execution_count": null,
   "metadata": {},
   "outputs": [],
   "source": [
    "g = ig.generateGraph(fileName)"
   ]
  },
  {
   "cell_type": "markdown",
   "metadata": {},
   "source": [
    "Visualize 2D graphs via *visual2D(\\_graph\\_)* \n",
    "\n",
    "Visualize 3D graphs via *visual3D(\\_graph\\_)*"
   ]
  },
  {
   "cell_type": "code",
   "execution_count": null,
   "metadata": {},
   "outputs": [],
   "source": [
    "ig.visual2D(g)"
   ]
  },
  {
   "cell_type": "markdown",
   "metadata": {},
   "source": [
    "**Filter the graph** and visualize the filtered graph "
   ]
  },
  {
   "cell_type": "code",
   "execution_count": null,
   "metadata": {},
   "outputs": [],
   "source": [
    "fg = ig.filterGraph(g)\n",
    "ig.visual2D(fg) # visualization"
   ]
  },
  {
   "cell_type": "markdown",
   "metadata": {},
   "source": [
    "Computing the number of connected components and the components themselves"
   ]
  },
  {
   "cell_type": "code",
   "execution_count": null,
   "metadata": {},
   "outputs": [],
   "source": [
    "print(f\"Number of Connected Components: {len(fg.connected_components())} \\n\")\n",
    "print(f\"Connected Components: {fg.connected_components()} \\n\")"
   ]
  },
  {
   "cell_type": "markdown",
   "metadata": {},
   "source": [
    "Compute the shortest path from all specified vertices to some meta-vertex (blue,red meta-vertex) which can be used to determine the desrciptors and stores the distances into a text file\n",
    "\n",
    "*shortest_path(_filteredGraph_, _vertices_, _startingVertex_, _fileName_)* takes in 4 parameters:\n",
    "- filtered graph\n",
    "- all specified vertices\n",
    "- starting vertex\n",
    "- file name\n",
    "\n",
    "Example:\n",
    "    *ig.shortest_path(fg,'black','blue',\"blue_to_black_paths.txt\")* produces the shortests path from all the black vertices to the blue meta-vertex and stores it in a text file called blue_to_black_paths.txt\n"
   ]
  },
  {
   "cell_type": "code",
   "execution_count": null,
   "metadata": {},
   "outputs": [],
   "source": [
    "ig.shortest_path(fg,'black','blue',\"blue_to_black_paths.txt\")"
   ]
  },
  {
   "cell_type": "markdown",
   "metadata": {},
   "source": [
    "Produce a list of descriptors by passing in a graph and a file name for the descriptors to be stored by using *descriptors(_graph_, _fileName_)*\n",
    "\n",
    "- stores the descriptors in a text file under the file name that is passed into the function"
   ]
  },
  {
   "cell_type": "code",
   "execution_count": null,
   "metadata": {},
   "outputs": [],
   "source": [
    "ig.descriptors(g,\"descriptors_list.txt\")"
   ]
  }
 ],
 "metadata": {
  "kernelspec": {
   "display_name": "Python 3 (ipykernel)",
   "language": "python",
   "name": "python3"
  },
  "language_info": {
   "codemirror_mode": {
    "name": "ipython",
    "version": 3
   },
   "file_extension": ".py",
   "mimetype": "text/x-python",
   "name": "python",
   "nbconvert_exporter": "python",
   "pygments_lexer": "ipython3",
   "version": "3.12.5"
  }
 },
 "nbformat": 4,
 "nbformat_minor": 4
}
